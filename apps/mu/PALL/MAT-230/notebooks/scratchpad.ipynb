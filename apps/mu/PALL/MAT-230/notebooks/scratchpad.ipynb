{
 "cells": [
  {
   "cell_type": "markdown",
   "id": "0",
   "metadata": {},
   "source": []
  }
 ],
 "metadata": {
  "kernelspec": {
   "display_name": "Wolfram Language 14.3",
   "language": "Wolfram Language",
   "name": "wolframlanguage14.3"
  },
  "language_info": {
   "name": "Wolfram Language",
   "version": "3.10.18"
  }
 },
 "nbformat": 4,
 "nbformat_minor": 5
}
