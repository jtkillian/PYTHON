{
 "cells": [
  {
   "cell_type": "markdown",
   "id": "0",
   "metadata": {},
   "source": [
    "# Data Analysis and Visualization"
   ]
  },
  {
   "cell_type": "markdown",
   "id": "1",
   "metadata": {},
   "source": [
    "## Data Loading"
   ]
  },
  {
   "cell_type": "code",
   "execution_count": null,
   "id": "2",
   "metadata": {},
   "outputs": [],
   "source": [
    "import pandas as pd\n",
    "\n",
    "# Load the cleaned parquet data file\n",
    "df = pd.read_parquet(\"../../data/processed/projectile-motion_practice_clean.parquet\")\n",
    "\n",
    "# Quick sanity checks\n",
    "display(df.head())\n",
    "print(df.dtypes)\n"
   ]
  },
  {
   "cell_type": "markdown",
   "id": "3",
   "metadata": {},
   "source": [
    "## Exploratory Data Analysis with Seaborn"
   ]
  },
  {
   "cell_type": "markdown",
   "id": "4",
   "metadata": {},
   "source": [
    "### EDA Configuration\n"
   ]
  },
  {
   "cell_type": "code",
   "execution_count": null,
   "id": "5",
   "metadata": {},
   "outputs": [],
   "source": [
    "import seaborn as sns\n",
    "import matplotlib.pyplot as plt\n",
    "\n",
    "sns.set_theme(context=\"notebook\", style=\"whitegrid\")\n"
   ]
  },
  {
   "cell_type": "markdown",
   "id": "6",
   "metadata": {},
   "source": [
    "### Histogram of Percent Error (Eange)"
   ]
  },
  {
   "cell_type": "code",
   "execution_count": null,
   "id": "7",
   "metadata": {},
   "outputs": [],
   "source": [
    "plt.figure(figsize=(7, 4))\n",
    "sns.histplot(df[\"pct_err_range\"], bins=30)\n",
    "plt.title(\"Percent Error (Range)\")\n",
    "plt.xlabel(\"Percent error (%)\")\n",
    "plt.ylabel(\"Count\")\n",
    "plt.tight_layout()\n"
   ]
  },
  {
   "cell_type": "markdown",
   "id": "8",
   "metadata": {},
   "source": [
    "### Boxplot of Percent Error by Lab Section"
   ]
  },
  {
   "cell_type": "code",
   "execution_count": null,
   "id": "9",
   "metadata": {},
   "outputs": [],
   "source": [
    "plt.figure(figsize=(7, 4))\n",
    "sns.boxplot(data=df, x=\"section\", y=\"pct_err_range\")\n",
    "plt.title(\"Percent Error (Range) by Section\")\n",
    "plt.xlabel(\"Section\")\n",
    "plt.ylabel(\"Percent error (%)\")\n",
    "plt.tight_layout()\n"
   ]
  },
  {
   "cell_type": "markdown",
   "id": "10",
   "metadata": {},
   "source": [
    "### Scatter: Angle vs Measured Range, Colored by Section"
   ]
  },
  {
   "cell_type": "code",
   "execution_count": null,
   "id": "11",
   "metadata": {},
   "outputs": [],
   "source": [
    "plt.figure(figsize=(7, 4))\n",
    "sns.scatterplot(data=df, x=\"angle_deg\", y=\"range_meas_m\", hue=\"section\", s=25)\n",
    "plt.title(\"Measured Range vs Angle\")\n",
    "plt.xlabel(\"Angle (°)\")\n",
    "plt.ylabel(\"Measured range (m)\")\n",
    "plt.tight_layout()\n"
   ]
  },
  {
   "cell_type": "markdown",
   "id": "12",
   "metadata": {},
   "source": [
    "### Correlation Heatmap for Selected Variables"
   ]
  },
  {
   "cell_type": "code",
   "execution_count": null,
   "id": "13",
   "metadata": {},
   "outputs": [],
   "source": [
    "num_cols = [\n",
    "    \"angle_deg\",\n",
    "    \"vel_init_mps\",\n",
    "    \"range_theor_m\",\n",
    "    \"range_meas_m\",\n",
    "    \"height_theor_m\",\n",
    "    \"height_meas_m\",\n",
    "    \"time_theor_s\",\n",
    "    \"time_meas_s\",\n",
    "    \"pct_err_range\",\n",
    "    \"pct_err_height\",\n",
    "    \"pct_err_time\",\n",
    "]\n",
    "corr = df[num_cols].corr(numeric_only=True)\n",
    "plt.figure(figsize=(7, 6))\n",
    "sns.heatmap(corr, cmap=\"vlag\", center=0, annot=False)\n",
    "plt.title(\"Correlation (selected variables)\")\n",
    "plt.tight_layout()\n"
   ]
  },
  {
   "cell_type": "markdown",
   "id": "14",
   "metadata": {},
   "source": [
    "## Statistical Analysis"
   ]
  },
  {
   "cell_type": "markdown",
   "id": "15",
   "metadata": {},
   "source": [
    "### Statistical Analysis Configuration"
   ]
  },
  {
   "cell_type": "code",
   "execution_count": null,
   "id": "16",
   "metadata": {},
   "outputs": [],
   "source": [
    "import numpy as np\n",
    "from scipy import stats\n",
    "import statsmodels.api as sm\n",
    "import statsmodels.formula.api as smf\n"
   ]
  },
  {
   "cell_type": "markdown",
   "id": "17",
   "metadata": {},
   "source": [
    "### Descriptives by Section"
   ]
  },
  {
   "cell_type": "code",
   "execution_count": null,
   "id": "18",
   "metadata": {},
   "outputs": [],
   "source": [
    "summary = (\n",
    "    df.groupby(\"section\")[[\"pct_err_range\", \"pct_err_height\", \"pct_err_time\"]]\n",
    "    .agg([\"count\", \"mean\", \"std\"])\n",
    "    .round(3)\n",
    ")\n",
    "print(\"Descriptives by section:\\n\", summary, \"\\n\")\n"
   ]
  },
  {
   "cell_type": "markdown",
   "id": "19",
   "metadata": {},
   "source": [
    "### Pearson Correlation: Angle vs Measured Range"
   ]
  },
  {
   "cell_type": "code",
   "execution_count": null,
   "id": "20",
   "metadata": {},
   "outputs": [],
   "source": [
    "r, p = stats.pearsonr(df[\"angle_deg\"], df[\"range_meas_m\"])\n",
    "print(f\"Pearson r(angle, measured range) = {r:.3f}, p = {p:.3e}\")\n"
   ]
  },
  {
   "cell_type": "markdown",
   "id": "21",
   "metadata": {},
   "source": [
    "### OLS: Measured Range ~ Theoretical Range + Angle + Initial Velocity"
   ]
  },
  {
   "cell_type": "code",
   "execution_count": null,
   "id": "22",
   "metadata": {},
   "outputs": [],
   "source": [
    "model = smf.ols(\"range_meas_m ~ range_theor_m + angle_deg + vel_init_mps\", data=df).fit()\n",
    "print(model.summary())\n"
   ]
  },
  {
   "cell_type": "markdown",
   "id": "23",
   "metadata": {},
   "source": [
    "### One-Way ANOVA: Error by Section"
   ]
  },
  {
   "cell_type": "code",
   "execution_count": null,
   "id": "24",
   "metadata": {},
   "outputs": [],
   "source": [
    "groups = [g.dropna().values for _, g in df.groupby(\"section\")[\"pct_err_range\"]]\n",
    "if all(len(g) > 1 for g in groups) and len(groups) > 1:\n",
    "    F, p_anova = stats.f_oneway(*groups)\n",
    "    print(f\"One-way ANOVA on pct_err_range by section: F={F:.3f}, p={p_anova:.3e}\")\n",
    "else:\n",
    "    print(\"ANOVA skipped (not enough groups or samples).\")\n"
   ]
  },
  {
   "cell_type": "markdown",
   "id": "25",
   "metadata": {},
   "source": [
    "### 95% CI for Mean Percent Error (Range)"
   ]
  },
  {
   "cell_type": "code",
   "execution_count": null,
   "id": "26",
   "metadata": {},
   "outputs": [],
   "source": [
    "arr = df[\"pct_err_range\"].dropna().to_numpy()\n",
    "mean = arr.mean()\n",
    "se = arr.std(ddof=1) / np.sqrt(len(arr))\n",
    "ci_low, ci_high = stats.t.interval(0.95, len(arr) - 1, loc=mean, scale=se)\n",
    "print(f\"Mean pct_err_range = {mean:.3f}% (95% CI: {ci_low:.3f}%, {ci_high:.3f}%)\")\n"
   ]
  },
  {
   "cell_type": "markdown",
   "id": "27",
   "metadata": {},
   "source": [
    "## Figure Generation"
   ]
  },
  {
   "cell_type": "markdown",
   "id": "28",
   "metadata": {},
   "source": [
    "### Plotly Figures"
   ]
  },
  {
   "cell_type": "markdown",
   "id": "29",
   "metadata": {},
   "source": [
    "#### Plotly Configuration"
   ]
  },
  {
   "cell_type": "code",
   "execution_count": null,
   "id": "30",
   "metadata": {},
   "outputs": [],
   "source": [
    "import plotly.express as px\n",
    "\n",
    "df_sorted = df.sort_values(\"angle_deg\")\n"
   ]
  },
  {
   "cell_type": "markdown",
   "id": "31",
   "metadata": {},
   "source": [
    "#### Line: Angle vs Theoretical & Measured Range"
   ]
  },
  {
   "cell_type": "code",
   "execution_count": null,
   "id": "32",
   "metadata": {},
   "outputs": [],
   "source": [
    "fig = px.line(\n",
    "    df_sorted,\n",
    "    x=\"angle_deg\",\n",
    "    y=[\"range_theor_m\", \"range_meas_m\"],\n",
    "    labels={\"value\": \"Range (m)\", \"angle_deg\": \"Angle (°)\", \"variable\": \"Series\"},\n",
    "    title=\"Projectile Range vs Angle (Interactive)\",\n",
    ")\n",
    "fig.show()\n"
   ]
  },
  {
   "cell_type": "markdown",
   "id": "33",
   "metadata": {},
   "source": [
    "#### Scatter with Trendline: Theoretical vs Measured Range"
   ]
  },
  {
   "cell_type": "code",
   "execution_count": null,
   "id": "34",
   "metadata": {},
   "outputs": [],
   "source": [
    "fig2 = px.scatter(\n",
    "    df,\n",
    "    x=\"range_theor_m\",\n",
    "    y=\"range_meas_m\",\n",
    "    trendline=\"ols\",\n",
    "    labels={\"range_theor_m\": \"Theoretical (m)\", \"range_meas_m\": \"Measured (m)\"},\n",
    "    title=\"Measured vs Theoretical Range (Interactive)\",\n",
    ")\n",
    "fig2.show()\n"
   ]
  },
  {
   "cell_type": "markdown",
   "id": "35",
   "metadata": {},
   "source": [
    "### Matplotlib Figures"
   ]
  },
  {
   "cell_type": "markdown",
   "id": "36",
   "metadata": {},
   "source": [
    "#### Matplotlib Configuration"
   ]
  },
  {
   "cell_type": "code",
   "execution_count": null,
   "id": "37",
   "metadata": {},
   "outputs": [],
   "source": [
    "import matplotlib.pyplot as plt\n",
    "\n",
    "df_sorted = df.sort_values(\"angle_deg\")\n"
   ]
  },
  {
   "cell_type": "markdown",
   "id": "38",
   "metadata": {},
   "source": [
    "#### Theoretical vs Measured Range vs Angle"
   ]
  },
  {
   "cell_type": "code",
   "execution_count": null,
   "id": "39",
   "metadata": {},
   "outputs": [],
   "source": [
    "plt.figure(figsize=(7, 4))\n",
    "plt.plot(df_sorted[\"angle_deg\"], df_sorted[\"range_theor_m\"], label=\"Theoretical\", linewidth=2)\n",
    "plt.plot(df_sorted[\"angle_deg\"], df_sorted[\"range_meas_m\"], \"--\", label=\"Measured\")\n",
    "plt.xlabel(\"Angle (°)\")\n",
    "plt.ylabel(\"Range (m)\")\n",
    "plt.title(\"Projectile Range vs Angle\")\n",
    "plt.legend()\n",
    "plt.tight_layout()\n",
    "plt.savefig(\"range_vs_angle.png\", dpi=300)\n"
   ]
  },
  {
   "cell_type": "markdown",
   "id": "40",
   "metadata": {},
   "source": [
    "#### Measured vs Theoretical Range (Scatter + Identity Line)"
   ]
  },
  {
   "cell_type": "code",
   "execution_count": null,
   "id": "41",
   "metadata": {},
   "outputs": [],
   "source": [
    "plt.figure(figsize=(5.5, 5.5))\n",
    "plt.scatter(df[\"range_theor_m\"], df[\"range_meas_m\"], s=20, alpha=0.7)\n",
    "m = max(df[\"range_theor_m\"].max(), df[\"range_meas_m\"].max())\n",
    "plt.plot([0, m], [0, m], linewidth=1)  # y=x\n",
    "plt.xlabel(\"Theoretical range (m)\")\n",
    "plt.ylabel(\"Measured range (m)\")\n",
    "plt.title(\"Measured vs Theoretical Range\")\n",
    "plt.tight_layout()\n",
    "plt.savefig(\"measured_vs_theoretical_range.png\", dpi=300)\n"
   ]
  }
 ],
 "metadata": {
  "kernelspec": {
   "display_name": "PYTHON_uv",
   "language": "python",
   "name": "python_uv"
  },
  "language_info": {
   "codemirror_mode": {
    "name": "ipython",
    "version": 3
   },
   "file_extension": ".py",
   "mimetype": "text/x-python",
   "name": "python",
   "nbconvert_exporter": "python",
   "pygments_lexer": "ipython3",
   "version": "3.10.18"
  }
 },
 "nbformat": 4,
 "nbformat_minor": 5
}
