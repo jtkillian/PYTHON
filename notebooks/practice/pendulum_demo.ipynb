{
 "cells": [
  {
   "cell_type": "markdown",
   "id": "0",
   "metadata": {},
   "source": [
    "# Pendulum cleaning pipeline (from Data Wrangler)\n",
    "\n",
    "This notebook reproduces the GUI cleaning steps from Data Wrangler, adds a few domain-specific columns, and writes a clean dataset to `data/processed/pendulum_clean.csv`.\n",
    "\n",
    "**Inputs**: `data/raw/pendulum_messy.csv`  \n",
    "**Outputs**: `data/processed/pendulum_clean.csv`\n"
   ]
  },
  {
   "cell_type": "code",
   "execution_count": null,
   "id": "1",
   "metadata": {},
   "outputs": [],
   "source": [
    "import numpy as np\n",
    "import pandas as pd\n",
    "\n",
    "\n",
    "pd.set_option(\"display.max_columns\", 100)\n",
    "pd.set_option(\"display.width\", 120)"
   ]
  },
  {
   "cell_type": "markdown",
   "id": "2",
   "metadata": {},
   "source": [
    "## 1) Data Wrangler export (GUI steps)\n",
    "\n",
    "The next cell was inserted by Data Wrangler. It reads the raw CSV and applies the point-and-click transforms (replace units, change types, filters, etc.) to produce `df_clean`.\n"
   ]
  },
  {
   "cell_type": "code",
   "execution_count": null,
   "id": "3",
   "metadata": {},
   "outputs": [],
   "source": [
    "import pandas as pd\n",
    "\n",
    "\n",
    "def clean_data(df):\n",
    "    # Change column type to datetime64[ns] for column: 'timestamp'\n",
    "    df = df.astype({\"timestamp\": \"datetime64[ns]\"})\n",
    "    # Replace all instances of \"[^0-9\\\\.\\\\,\\\\-]\" with \"\" in columns: 'mass_g', 'length_cm', 'time_s'\n",
    "    df[\"mass_g\"] = df[\"mass_g\"].str.replace(\"[^0-9\\\\.\\\\,\\\\-]\", \"\", case=False, regex=True)\n",
    "    df[\"length_cm\"] = df[\"length_cm\"].str.replace(\"[^0-9\\\\.\\\\,\\\\-]\", \"\", case=False, regex=True)\n",
    "    df[\"time_s\"] = df[\"time_s\"].str.replace(\"[^0-9\\\\.\\\\,\\\\-]\", \"\", case=False, regex=True)\n",
    "    # Replace all instances of \",\" with \".\" in columns: 'mass_g', 'time_s', 'length_cm'\n",
    "    df[\"mass_g\"] = df[\"mass_g\"].str.replace(\",\", \".\", case=False, regex=False)\n",
    "    df[\"time_s\"] = df[\"time_s\"].str.replace(\",\", \".\", case=False, regex=False)\n",
    "    df[\"length_cm\"] = df[\"length_cm\"].str.replace(\",\", \".\", case=False, regex=False)\n",
    "    # Change column type to float64 for columns: 'mass_g', 'length_cm', 'time_s'\n",
    "    df = df.astype({\"mass_g\": \"float64\", \"length_cm\": \"float64\", \"time_s\": \"float64\"})\n",
    "    # Replace all instances of \",\" with \".\" in column: 'voltage_V'\n",
    "    df[\"voltage_V\"] = df[\"voltage_V\"].str.replace(\",\", \".\", case=False, regex=False)\n",
    "    # Filter rows based on column: 'voltage_V'\n",
    "    df = df[\n",
    "        ~(\n",
    "            (df[\"voltage_V\"].str.contains(\"err\", regex=False, na=False, case=False))\n",
    "            | (df[\"voltage_V\"].isna())\n",
    "        )\n",
    "    ]\n",
    "    # Change column type to float64 for column: 'voltage_V'\n",
    "    df = df.astype({\"voltage_V\": \"float64\"})\n",
    "    # Filter rows based on column: 'mass_g'\n",
    "    df = df[~(df[\"mass_g\"].isna())]\n",
    "    return df\n",
    "\n",
    "\n",
    "# Loaded variable 'df' from URI: c:\\Users\\jkill\\OneDrive\\Desktop\\JDW-DEV\\GitHub\\JDwinkle\\PYTHON\\data\\raw\\pendulum_demo.csv\n",
    "df = pd.read_csv(\n",
    "    r\"c:\\Users\\jkill\\OneDrive\\Desktop\\JDW-DEV\\GitHub\\JDwinkle\\PYTHON\\data\\raw\\pendulum_demo.csv\"\n",
    ")\n",
    "\n",
    "df_clean = clean_data(df.copy())\n",
    "df_clean.head()"
   ]
  },
  {
   "cell_type": "markdown",
   "id": "4",
   "metadata": {},
   "source": [
    "## 3) Derived columns\n",
    "\n",
    "Add physics-friendly columns:\n",
    "- `mass_kg = mass_g / 1000`\n",
    "- `length_m = length_cm / 100`\n",
    "- `g_est = 4π²·length_m / time_s²`\n"
   ]
  },
  {
   "cell_type": "code",
   "execution_count": null,
   "id": "5",
   "metadata": {},
   "outputs": [],
   "source": [
    "df_clean[\"mass_kg\"] = df_clean[\"mass_g\"] / 1000.0\n",
    "df_clean[\"length_m\"] = df_clean[\"length_cm\"] / 100.0\n",
    "df_clean[\"g_est\"] = 4 * np.pi**2 * df_clean[\"length_m\"] / (df_clean[\"time_s\"] ** 2)\n",
    "\n",
    "df_clean.head()"
   ]
  },
  {
   "cell_type": "markdown",
   "id": "6",
   "metadata": {},
   "source": [
    "## 4) Write processed dataset\n",
    "\n",
    "Materialize the cleaned dataset so other notebooks/apps can consume it.\n"
   ]
  },
  {
   "cell_type": "code",
   "execution_count": null,
   "id": "7",
   "metadata": {},
   "outputs": [],
   "source": [
    "out_path = \"../data/processed/pendulum_clean.csv\"\n",
    "df_clean.to_csv(out_path, index=False)\n",
    "out_path"
   ]
  },
  {
   "cell_type": "markdown",
   "id": "8",
   "metadata": {},
   "source": [
    "## 5) Quick visuals\n",
    "\n",
    "Interactive Plotly and a publication-style Matplotlib figure.\n"
   ]
  },
  {
   "cell_type": "code",
   "execution_count": null,
   "id": "9",
   "metadata": {},
   "outputs": [],
   "source": [
    "import plotly.express as px\n",
    "\n",
    "\n",
    "fig = px.scatter(\n",
    "    df_clean,\n",
    "    x=\"timestamp\",\n",
    "    y=\"g_est\",\n",
    "    color=\"sample_id\",\n",
    "    trendline=\"ols\",\n",
    "    title=\"Estimated g over time by sample\",\n",
    ")\n",
    "fig"
   ]
  },
  {
   "cell_type": "code",
   "execution_count": null,
   "id": "10",
   "metadata": {},
   "outputs": [],
   "source": [
    "import matplotlib.pyplot as plt\n",
    "\n",
    "\n",
    "plt.figure()\n",
    "y = df_clean[\"g_est\"].to_numpy()\n",
    "yerr = np.maximum(0.01 * y, 1e-6)  # demo error bars (replace with real σ if you have it)\n",
    "plt.errorbar(df_clean[\"length_m\"], y, yerr=yerr, fmt=\"o\", capsize=3)\n",
    "plt.xlabel(\"Length (m)\")\n",
    "plt.ylabel(\"Estimated g (m/s²)\")\n",
    "plt.grid(True)\n",
    "plt.tight_layout()\n",
    "plt.savefig(\"../reports/figures/g_vs_length.png\", dpi=300)\n",
    "plt.show()"
   ]
  }
 ],
 "metadata": {
  "kernelspec": {
   "display_name": "Python (PYTHON · uv · 3.10 · cu121)",
   "language": "python",
   "name": "uv-py310-cu121-python"
  },
  "language_info": {
   "codemirror_mode": {
    "name": "ipython",
    "version": 3
   },
   "file_extension": ".py",
   "mimetype": "text/x-python",
   "name": "python",
   "nbconvert_exporter": "python",
   "pygments_lexer": "ipython3",
   "version": "3.10.18"
  }
 },
 "nbformat": 4,
 "nbformat_minor": 5
}
