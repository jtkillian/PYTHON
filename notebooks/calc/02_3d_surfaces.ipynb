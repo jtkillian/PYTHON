{
 "cells": [
  {
   "cell_type": "markdown",
   "id": "bb6f36f4",
   "metadata": {},
   "source": [
    "# 3D surface explorer\n",
    "\n",
    "\\[\n",
    "z = a \\cdot \\sin(x) + b \\cdot \\cos(y)\n",
    "\\]\n"
   ]
  },
  {
   "cell_type": "code",
   "execution_count": 1,
   "id": "56b428ae",
   "metadata": {},
   "outputs": [
    {
     "name": "stdout",
     "output_type": "stream",
     "text": [
      "Project root: c:\\Users\\jkill\\OneDrive\\Desktop\\JDW-DEV\\GitHub\\JDwinkle\\PYTHON\n",
      "Added to sys.path: c:\\Users\\jkill\\OneDrive\\Desktop\\JDW-DEV\\GitHub\\JDwinkle\\PYTHON\\src\n"
     ]
    }
   ],
   "source": [
    "# Make \"src\" importable no matter which subfolder this notebook lives in\n",
    "import sys\n",
    "from pathlib import Path\n",
    "\n",
    "CWD = Path.cwd()\n",
    "def find_project_root(start: Path) -> Path:\n",
    "    for p in [start, *start.parents]:\n",
    "        if (p / \"pyproject.toml\").exists() or (p / \".git\").exists():\n",
    "            return p\n",
    "    return start  # fallback\n",
    "\n",
    "ROOT = find_project_root(CWD)\n",
    "SRC = ROOT / \"src\"\n",
    "if str(SRC) not in sys.path:\n",
    "    sys.path.insert(0, str(SRC))\n",
    "\n",
    "print(\"Project root:\", ROOT)\n",
    "print(\"Added to sys.path:\", SRC)\n"
   ]
  },
  {
   "cell_type": "code",
   "execution_count": 2,
   "id": "681f1b08",
   "metadata": {},
   "outputs": [
    {
     "data": {
      "application/vnd.jupyter.widget-view+json": {
       "model_id": "34e5a4f4eb254de7a248c6ad0cbd313d",
       "version_major": 2,
       "version_minor": 0
      },
      "text/plain": [
       "interactive(children=(FloatSlider(value=1.0, continuous_update=False, description='a', max=2.0, min=-2.0), Flo…"
      ]
     },
     "metadata": {},
     "output_type": "display_data"
    }
   ],
   "source": [
    "import numpy as np\n",
    "import matplotlib.pyplot as plt\n",
    "from mpl_toolkits.mplot3d import Axes3D  # noqa: F401\n",
    "import ipywidgets as w\n",
    "\n",
    "%matplotlib inline\n",
    "\n",
    "def surf(a: float = 1.0, b: float = 1.0):\n",
    "    x = np.linspace(-np.pi, np.pi, 100)\n",
    "    y = np.linspace(-np.pi, np.pi, 100)\n",
    "    X, Y = np.meshgrid(x, y)\n",
    "    Z = a*np.sin(X) + b*np.cos(Y)\n",
    "    fig = plt.figure(figsize=(6, 5))\n",
    "    ax = fig.add_subplot(111, projection=\"3d\")\n",
    "    ax.plot_surface(X, Y, Z, rstride=2, cstride=2, linewidth=0, antialiased=True)\n",
    "    ax.set_xlabel(\"x\"); ax.set_ylabel(\"y\"); ax.set_zlabel(\"z\")\n",
    "    ax.set_title(f\"z = {a:.2f}·sin(x) + {b:.2f}·cos(y)\")\n",
    "    plt.show()\n",
    "\n",
    "w.interact(\n",
    "    surf,\n",
    "    a=w.FloatSlider(value=1.0, min=-2.0, max=2.0, step=0.1, continuous_update=False),\n",
    "    b=w.FloatSlider(value=1.0, min=-2.0, max=2.0, step=0.1, continuous_update=False),\n",
    ");\n"
   ]
  }
 ],
 "metadata": {
  "kernelspec": {
   "display_name": "py310",
   "language": "python",
   "name": "python3"
  },
  "language_info": {
   "codemirror_mode": {
    "name": "ipython",
    "version": 3
   },
   "file_extension": ".py",
   "mimetype": "text/x-python",
   "name": "python",
   "nbconvert_exporter": "python",
   "pygments_lexer": "ipython3",
   "version": "3.10.18"
  }
 },
 "nbformat": 4,
 "nbformat_minor": 5
}
