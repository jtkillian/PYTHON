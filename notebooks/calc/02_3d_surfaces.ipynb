{
 "cells": [
  {
   "cell_type": "markdown",
   "id": "0",
   "metadata": {},
   "source": [
    "# 3D Surface Explorer\n",
    "\n",
    "Explore surfaces of the form `z = f(x, y, a, b)` with live sliders for up to two parameters.\n",
    "\n",
    "**Notes**\n",
    "- Uses **Plotly FigureWidget** for smooth updates (requires `ipywidgets` + `anywidget`).\n",
    "- If live mode isn’t available, it falls back to a static surface and prints a hint to install `anywidget`.\n",
    "\n",
    "**Try editing `zfunc`**\n",
    "- Replace `a*np.sin(x) + b*np.cos(y)` with your own vectorized expression.\n",
    "- Keep it NumPy-based (no Python loops) for speed.\n"
   ]
  },
  {
   "cell_type": "code",
   "execution_count": null,
   "id": "1",
   "metadata": {},
   "outputs": [],
   "source": [
    "from sandbox.nb_widgets import notebook_setup, surface3d_widget\n",
    "\n",
    "notebook_setup()"
   ]
  },
  {
   "cell_type": "code",
   "execution_count": null,
   "id": "2",
   "metadata": {},
   "outputs": [],
   "source": [
    "import numpy as np\n",
    "\n",
    "\n",
    "def zfunc(x: np.ndarray, y: np.ndarray, a: float = 1.0, b: float = 1.0) -> np.ndarray:\n",
    "    return a * np.sin(x) + b * np.cos(y)\n",
    "\n",
    "\n",
    "surface3d_widget(\n",
    "    zfunc,\n",
    "    x_range=(-np.pi, np.pi),\n",
    "    y_range=(-np.pi, np.pi),\n",
    "    grid=100,\n",
    "    params={\"a\": (1.0, -2.0, 2.0, 0.02), \"b\": (1.0, -2.0, 2.0, 0.02)},\n",
    ")"
   ]
  }
 ],
 "metadata": {
  "kernelspec": {
   "display_name": "py310",
   "language": "python",
   "name": "python3"
  },
  "language_info": {
   "codemirror_mode": {
    "name": "ipython",
    "version": 3
   },
   "file_extension": ".py",
   "mimetype": "text/x-python",
   "name": "python",
   "nbconvert_exporter": "python",
   "pygments_lexer": "ipython3",
   "version": "3.10.18"
  }
 },
 "nbformat": 4,
 "nbformat_minor": 5
}
