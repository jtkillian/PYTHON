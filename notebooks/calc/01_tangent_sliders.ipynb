{
 "cells": [
  {
   "cell_type": "markdown",
   "id": "564e686a",
   "metadata": {},
   "source": [
    "# Tangent line explorer (f(x) = x²)\n",
    "\n",
    "Use the slider to choose the tangent point `a`.\n"
   ]
  },
  {
   "cell_type": "code",
   "execution_count": 1,
   "id": "3c38610b",
   "metadata": {},
   "outputs": [
    {
     "name": "stdout",
     "output_type": "stream",
     "text": [
      "Project root: c:\\Users\\jkill\\OneDrive\\Desktop\\JDW-DEV\\GitHub\\JDwinkle\\PYTHON\n",
      "Added to sys.path: c:\\Users\\jkill\\OneDrive\\Desktop\\JDW-DEV\\GitHub\\JDwinkle\\PYTHON\\src\n"
     ]
    }
   ],
   "source": [
    "# Make \"src\" importable no matter which subfolder this notebook lives in\n",
    "import sys\n",
    "from pathlib import Path\n",
    "\n",
    "CWD = Path.cwd()\n",
    "\n",
    "\n",
    "def find_project_root(start: Path) -> Path:\n",
    "    for p in [start, *start.parents]:\n",
    "        if (p / \"pyproject.toml\").exists() or (p / \".git\").exists():\n",
    "            return p\n",
    "    return start  # fallback\n",
    "\n",
    "\n",
    "ROOT = find_project_root(CWD)\n",
    "SRC = ROOT / \"src\"\n",
    "if str(SRC) not in sys.path:\n",
    "    sys.path.insert(0, str(SRC))\n",
    "\n",
    "print(\"Project root:\", ROOT)\n",
    "print(\"Added to sys.path:\", SRC)"
   ]
  },
  {
   "cell_type": "code",
   "execution_count": null,
   "id": "c2a908ac",
   "metadata": {},
   "outputs": [
    {
     "data": {
      "application/vnd.jupyter.widget-view+json": {
       "model_id": "babc86cebc34460a8db45230a76479a0",
       "version_major": 2,
       "version_minor": 0
      },
      "text/plain": [
       "interactive(children=(FloatSlider(value=1.0, continuous_update=False, description='a', max=3.0, min=-3.0), Out…"
      ]
     },
     "metadata": {},
     "output_type": "display_data"
    }
   ],
   "source": [
    "import numpy as np\n",
    "import matplotlib.pyplot as plt\n",
    "import ipywidgets as w\n",
    "\n",
    "%matplotlib inline\n",
    "\n",
    "def plot_tangent(a: float = 1.0):\n",
    "    x = np.linspace(-4, 4, 400)\n",
    "    f = x**2\n",
    "    # f(x)=x^2; f'(x)=2x; tangent at x=a: y = f(a) + f'(a)*(x-a)\n",
    "    fa, fpa = a**2, 2*a\n",
    "    y_tan = fa + fpa*(x - a)\n",
    "    plt.figure(figsize=(6, 4))\n",
    "    plt.plot(x, f, label=\"f(x)=x^2\")\n",
    "    plt.plot(x, y_tan, \"--\", label=f\"Tangent at a={a:.2f}\")\n",
    "    plt.scatter([a], [fa], color=\"black\")\n",
    "    plt.xlim(-4, 4)\n",
    "    plt.ylim(-2, 10)\n",
    "    plt.legend()\n",
    "    plt.grid(True)\n",
    "    plt.show()\n",
    "\n",
    "w.interact(plot_tangent, a=w.FloatSlider(value=1.0, min=-3.0, max=3.0, step=0.1, continuous_update=False));\n"
   ]
  }
 ],
 "metadata": {
  "kernelspec": {
   "display_name": "py310",
   "language": "python",
   "name": "python3"
  },
  "language_info": {
   "codemirror_mode": {
    "name": "ipython",
    "version": 3
   },
   "file_extension": ".py",
   "mimetype": "text/x-python",
   "name": "python",
   "nbconvert_exporter": "python",
   "pygments_lexer": "ipython3",
   "version": "3.10.18"
  }
 },
 "nbformat": 4,
 "nbformat_minor": 5
}
