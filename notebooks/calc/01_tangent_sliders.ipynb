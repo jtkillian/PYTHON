{
 "cells": [
  {
   "cell_type": "markdown",
   "id": "0",
   "metadata": {},
   "source": [
    "# Tangent Line Explorer\n",
    "\n",
    "Interactively visualize the tangent line to a function at a point `a`.\n",
    "\n",
    "**How it works**\n",
    "- You can pass either:\n",
    "  - a **SymPy expression** in `x` (exact derivative), or\n",
    "  - a **NumPy-callable** `f(x)` (numeric derivative via central differences).\n",
    "- The slider moves point `a`; the tangent line updates live.\n",
    "- The plot renders exactly **once** to avoid duplicates.\n",
    "\n",
    "**If you see two plots or no tangent:**\n",
    "- Restart the kernel and re-run cells after updating `nb_widgets.py`.\n",
    "- Ensure the cell only calls `tangent_widget(...)` (no extra `plt.show()` or leftover figures).\n"
   ]
  },
  {
   "cell_type": "code",
   "execution_count": null,
   "id": "1",
   "metadata": {},
   "outputs": [],
   "source": [
    "from sandbox.nb_widgets import notebook_setup, tangent_widget\n",
    "\n",
    "notebook_setup()  # fine whether or not ipympl is installed"
   ]
  },
  {
   "cell_type": "code",
   "execution_count": null,
   "id": "2",
   "metadata": {},
   "outputs": [],
   "source": [
    "import sympy as sp\n",
    "\n",
    "x = sp.symbols(\"x\")\n",
    "f_expr = x**2 + sp.sin(x)\n",
    "\n",
    "tangent_widget(\n",
    "    f_expr, a_init=1.0, xmin=-4.0, xmax=4.0, step=0.05, n=400\n",
    ")  # <— last line, no semicolon"
   ]
  }
 ],
 "metadata": {
  "kernelspec": {
   "display_name": "py310",
   "language": "python",
   "name": "python3"
  },
  "language_info": {
   "codemirror_mode": {
    "name": "ipython",
    "version": 3
   },
   "file_extension": ".py",
   "mimetype": "text/x-python",
   "name": "python",
   "nbconvert_exporter": "python",
   "pygments_lexer": "ipython3",
   "version": "3.10.18"
  }
 },
 "nbformat": 4,
 "nbformat_minor": 5
}
