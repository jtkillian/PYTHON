{
 "cells": [
  {
   "cell_type": "markdown",
   "id": "0",
   "metadata": {},
   "source": [
    "# 00 · Welcome / Sine demo\n",
    "\n",
    "This notebook is wired for our Quarto + smart figure saves.\n",
    "\n",
    "- Save → auto-renders HTML/PDF/DOCX to `quarto/build/00_welcome.*`\n",
    "- Figures saved with our helper land in `quarto/build/00_welcome/figures/…`\n",
    "- 2D → vector PDF, 3D → high-DPI PNG (best practice)\n"
   ]
  },
  {
   "cell_type": "code",
   "execution_count": null,
   "id": "1",
   "metadata": {
    "tags": [
     "parameters"
    ]
   },
   "outputs": [],
   "source": [
    "from sandbox.nb_widgets import notebook_setup, surface3d_widget_v2\n",
    "from sandbox.figs import save_best, save_buttons\n",
    "\n",
    "NOTEBOOK = \"00_welcome\"  # mirrors into quarto/build/00_welcome/...\n",
    "notebook_setup()  # configures plotting renderers, widgets, etc."
   ]
  },
  {
   "cell_type": "markdown",
   "id": "2",
   "metadata": {},
   "source": [
    "## Example 0 - Simple Addition"
   ]
  },
  {
   "cell_type": "code",
   "execution_count": null,
   "id": "3",
   "metadata": {},
   "outputs": [],
   "source": [
    "from sandbox.mathutils import add\n",
    "\n",
    "print(\"2 + 3 =\", add(2, 3))"
   ]
  },
  {
   "cell_type": "markdown",
   "id": "4",
   "metadata": {},
   "source": [
    "## Figure 1 — Sine (vector PDF)\n"
   ]
  },
  {
   "cell_type": "code",
   "execution_count": null,
   "id": "5",
   "metadata": {},
   "outputs": [],
   "source": [
    "import numpy as np\n",
    "import matplotlib.pyplot as plt\n",
    "from contextlib import suppress\n",
    "\n",
    "with suppress(NameError):\n",
    "    plt.close(fig00A)\n",
    "\n",
    "x = np.linspace(0.0, 2.0 * np.pi, num=250)\n",
    "y = np.sin(x)\n",
    "z = y * x\n",
    "fig00A, ax = plt.subplots()\n",
    "ax.plot(x, y, label=\"sin(x)\")\n",
    "ax.set_title(\"Sine Demo\")\n",
    "ax.set_xlabel(\"x\")\n",
    "ax.set_ylabel(\"y\")\n",
    "ax.grid(True)\n",
    "ax.legend()\n",
    "\n",
    "save_buttons(NOTEBOOK, fig00A)  # Matplotlib 2D → vector PDF"
   ]
  },
  {
   "cell_type": "markdown",
   "id": "6",
   "metadata": {},
   "source": [
    "## Figure 2 — Cosine (vector PDF, labeled)\n"
   ]
  },
  {
   "cell_type": "code",
   "execution_count": null,
   "id": "7",
   "metadata": {},
   "outputs": [],
   "source": [
    "import numpy as np\n",
    "import matplotlib.pyplot as plt\n",
    "from contextlib import suppress\n",
    "\n",
    "with suppress(NameError):\n",
    "    plt.close(fig00B)\n",
    "\n",
    "x = np.linspace(0.0, 2.0 * np.pi, num=250)\n",
    "y = np.cos(x)\n",
    "fig00B, ax = plt.subplots()\n",
    "ax.plot(x, y, label=\"cos(x)\")\n",
    "ax.set_title(\"Cosine Demo\")\n",
    "ax.set_xlabel(\"x\")\n",
    "ax.set_ylabel(\"y\")\n",
    "ax.grid(True)\n",
    "ax.legend()\n",
    "\n",
    "save_buttons(NOTEBOOK, fig00B)"
   ]
  },
  {
   "cell_type": "markdown",
   "id": "8",
   "metadata": {},
   "source": [
    "## Figure 3 - 3D Surface (interactive Plotly → high-DPI PNG)\n",
    "Rotate/zoom the view, then click the button to snapshot the current camera.\n"
   ]
  },
  {
   "cell_type": "code",
   "execution_count": null,
   "id": "9",
   "metadata": {},
   "outputs": [],
   "source": [
    "import numpy as np  # zfun or built-ins use numpy arrays\n",
    "\n",
    "# Built-in by name, with full sliders:\n",
    "ui_peaks = surface3d_widget_v2(\"peaks\", grid=120)  # sliders: gain\n",
    "\n",
    "display(ui_peaks)\n",
    "# Attach save buttons (FigureWidget is the last child)\n",
    "save_buttons(NOTEBOOK, ui_peaks.children[-1])"
   ]
  },
  {
   "cell_type": "markdown",
   "id": "10",
   "metadata": {},
   "source": [
    "## Figure 4 - 3D Surface (interactive Plotly → high-DPI PNG)\n",
    "Rotate/zoom the view, then click the button to snapshot the current camera.\n"
   ]
  },
  {
   "cell_type": "code",
   "execution_count": null,
   "id": "11",
   "metadata": {},
   "outputs": [],
   "source": [
    "import numpy as np\n",
    "\n",
    "# Built-ins (all have sliders)\n",
    "ui_monkey = surface3d_widget_v2(\"monkey\", grid=120)\n",
    "\n",
    "display(ui_monkey)  # render each (1 per cell recommended)\n",
    "\n",
    "# Attach save buttons (figure is the last child)\n",
    "save_buttons(NOTEBOOK, ui_monkey.children[-1])"
   ]
  }
 ],
 "metadata": {
  "kernelspec": {
   "display_name": "Python (PYTHON · uv · 3.10 · cu121)",
   "language": "python",
   "name": "uv-py310-cu121-python"
  },
  "language_info": {
   "codemirror_mode": {
    "name": "ipython",
    "version": 3
   },
   "file_extension": ".py",
   "mimetype": "text/x-python",
   "name": "python",
   "nbconvert_exporter": "python",
   "pygments_lexer": "ipython3",
   "version": "3.10.18"
  }
 },
 "nbformat": 4,
 "nbformat_minor": 5
}
