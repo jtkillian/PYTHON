{
 "cells": [
  {
   "cell_type": "markdown",
   "id": "0",
   "metadata": {},
   "source": [
    "# Welcome\n",
    "\n",
    "This notebook sanity-checks your Python setup and plotting.  \n",
    "What it shows:\n",
    "\n",
    "- Notebook environment initialization (inline Matplotlib, Plotly renderer, SymPy pretty printing)\n",
    "- A tiny test import from `src/sandbox/mathutils.py`\n",
    "- A simple sine plot\n",
    "\n",
    "If anything fails, confirm:\n",
    "- Kernel is **Python 3.10 (py310)** (Conda)\n",
    "- VS Code extensions installed (Python, Jupyter)\n"
   ]
  },
  {
   "cell_type": "code",
   "execution_count": null,
   "id": "1",
   "metadata": {},
   "outputs": [],
   "source": [
    "from sandbox.nb_widgets import notebook_setup\n",
    "\n",
    "notebook_setup()"
   ]
  },
  {
   "cell_type": "code",
   "execution_count": null,
   "id": "2",
   "metadata": {},
   "outputs": [],
   "source": [
    "from sandbox.mathutils import add\n",
    "\n",
    "print(\"2 + 3 =\", add(2, 3))"
   ]
  },
  {
   "cell_type": "code",
   "execution_count": null,
   "id": "3",
   "metadata": {},
   "outputs": [],
   "source": [
    "import numpy as np, matplotlib.pyplot as plt\n",
    "\n",
    "x = np.linspace(0.0, 2.0 * np.pi, num=200)\n",
    "y = np.sin(x)\n",
    "plt.plot(x, y)\n",
    "plt.title(\"Sine demo\")\n",
    "plt.show()"
   ]
  }
 ],
 "metadata": {
  "kernelspec": {
   "display_name": "py310",
   "language": "python",
   "name": "python3"
  },
  "language_info": {
   "codemirror_mode": {
    "name": "ipython",
    "version": 3
   },
   "file_extension": ".py",
   "mimetype": "text/x-python",
   "name": "python",
   "nbconvert_exporter": "python",
   "pygments_lexer": "ipython3",
   "version": "3.10.18"
  }
 },
 "nbformat": 4,
 "nbformat_minor": 5
}
