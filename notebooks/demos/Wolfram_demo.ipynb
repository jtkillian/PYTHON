{
 "cells": [
  {
   "cell_type": "markdown",
   "id": "0",
   "metadata": {},
   "source": [
    "# 🧪 Wolfram Engine Jupyter Demo Notebook\n",
    "This notebook tests the major Wolfram Language capabilities inside Jupyter using the Wolfram Engine kernel.\n",
    "\n",
    "---\n",
    "\n",
    "## 🔹 1. Basic arithmetic + symbolic math\n"
   ]
  },
  {
   "cell_type": "code",
   "execution_count": null,
   "id": "1",
   "metadata": {
    "vscode": {
     "languageId": "plaintext"
    }
   },
   "outputs": [],
   "source": [
    "2 + 2\n",
    "Expand[(x + y)^4]\n",
    "Simplify[(Sin[x]^2 + Cos[x]^2)]\n",
    "Integrate[x^3 Exp[x], x]\n",
    "Limit[(Sin[x] - x)/x^3, x -> 0]\n"
   ]
  },
  {
   "cell_type": "markdown",
   "id": "2",
   "metadata": {},
   "source": [
    "## 🔹 2. Linear algebra\n"
   ]
  },
  {
   "cell_type": "code",
   "execution_count": null,
   "id": "3",
   "metadata": {
    "vscode": {
     "languageId": "plaintext"
    }
   },
   "outputs": [],
   "source": [
    "A = {{2, -1, 0}, {1, 3, 2}, {0, 5, -1}};\n",
    "Det[A]\n",
    "Eigenvalues[A]\n",
    "Inverse[A]\n",
    "A . {x, y, z}\n"
   ]
  },
  {
   "cell_type": "markdown",
   "id": "4",
   "metadata": {},
   "source": [
    "## 🔹 3. Calculus & vector operations\n"
   ]
  },
  {
   "cell_type": "code",
   "execution_count": null,
   "id": "5",
   "metadata": {
    "vscode": {
     "languageId": "plaintext"
    }
   },
   "outputs": [],
   "source": [
    "f[x_, y_] := x^3 y^2 + Sin[x y]\n",
    "Grad[f[x, y], {x, y}]\n",
    "Div[{x^2, y^2}, {x, y}]\n",
    "Curl[{y z, x z, x y}, {x, y, z}]\n"
   ]
  },
  {
   "cell_type": "markdown",
   "id": "6",
   "metadata": {},
   "source": [
    "## 🔹 4. 2-D and 3-D plotting\n"
   ]
  },
  {
   "cell_type": "code",
   "execution_count": null,
   "id": "7",
   "metadata": {
    "vscode": {
     "languageId": "plaintext"
    }
   },
   "outputs": [],
   "source": [
    "Plot[Sin[x]/x, {x, -10, 10},\n",
    " PlotTheme -> \"Detailed\",\n",
    " AxesLabel -> {\"x\", \"y\"}]\n",
    "\n",
    "Plot3D[Sin[x^2 + y^2]/(x^2 + y^2),\n",
    " {x, -3, 3}, {y, -3, 3},\n",
    " PlotTheme -> \"Scientific\",\n",
    " Mesh -> None]\n"
   ]
  },
  {
   "cell_type": "markdown",
   "id": "8",
   "metadata": {},
   "source": [
    "## 🔹 5. Interactive controls\n"
   ]
  },
  {
   "cell_type": "code",
   "execution_count": null,
   "id": "9",
   "metadata": {
    "vscode": {
     "languageId": "plaintext"
    }
   },
   "outputs": [],
   "source": [
    "Manipulate[\n",
    " Plot3D[Sin[a x] Cos[b y], {x, -π, π}, {y, -π, π},\n",
    "  PlotRange -> All, PlotTheme -> \"Detailed\"],\n",
    " {{a, 1, \"x-frequency\"}, 0.5, 3},\n",
    " {{b, 1, \"y-frequency\"}, 0.5, 3}\n",
    "]\n"
   ]
  },
  {
   "cell_type": "markdown",
   "id": "10",
   "metadata": {},
   "source": [
    "## 🔹 6. Data handling + regression\n"
   ]
  },
  {
   "cell_type": "code",
   "execution_count": null,
   "id": "11",
   "metadata": {
    "vscode": {
     "languageId": "plaintext"
    }
   },
   "outputs": [],
   "source": [
    "data = Table[{x, Sin[x] + RandomReal[{-0.2, 0.2}]}, {x, 0, 6, 0.3}];\n",
    "\n",
    "ListPlot[data, PlotTheme -> \"Scientific\"]\n",
    "\n",
    "model = LinearModelFit[data, x, x];\n",
    "\n",
    "Show[\n",
    " ListPlot[data, PlotStyle -> Black],\n",
    " Plot[model[x], {x, 0, 6}, PlotStyle -> Red]\n",
    "]\n",
    "\n",
    "model[\"RSquared\"]\n"
   ]
  },
  {
   "cell_type": "markdown",
   "id": "12",
   "metadata": {},
   "source": [
    "## ✅ Notes\n",
    "- Each cell demonstrates a key area of the Wolfram Engine Jupyter integration.\n",
    "- If all sections render correctly (symbols, graphics, interactive widgets), your setup is working.\n",
    "- You can extend this with:\n",
    "  - `Dataset` exploration\n",
    "  - Symbolic `Solve` and `DSolve`\n",
    "  - Image or sound processing tests\n"
   ]
  }
 ],
 "metadata": {
  "kernelspec": {
   "display_name": "Wolfram Language 14.3",
   "language": "Wolfram Language",
   "name": "wolframlanguage14.3"
  },
  "language_info": {
   "codemirror_mode": "mathematica",
   "file_extension": ".m",
   "mimetype": "application/vnd.wolfram.m",
   "name": "Wolfram Language",
   "pygments_lexer": "mathematica",
   "version": "12.0"
  }
 },
 "nbformat": 4,
 "nbformat_minor": 5
}
