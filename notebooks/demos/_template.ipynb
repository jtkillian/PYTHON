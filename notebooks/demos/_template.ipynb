{
 "cells": [
  {
   "cell_type": "markdown",
   "id": "0",
   "metadata": {},
   "source": [
    "# Notebook Title\n",
    "\n",
    "- Save → auto build to `quarto/build/<path>/<name>.(html|pdf|docx)`\n",
    "- Figures go to `quarto/build/<path>/<name>/figures/…`\n",
    "- 2D → PDF (vector), 3D → PNG (high DPI)\n"
   ]
  },
  {
   "cell_type": "code",
   "execution_count": null,
   "id": "1",
   "metadata": {},
   "outputs": [],
   "source": [
    "# PARAMETERS\n",
    "from sandbox.nb_widgets import notebook_setup\n",
    "\n",
    "\n",
    "NOTEBOOK = \"<path>/<name>\"  # e.g. \"calc/04_newtopic\"\n",
    "notebook_setup()"
   ]
  }
 ],
 "metadata": {
  "kernelspec": {
   "display_name": "Python (PYTHON · uv · 3.10 · cu121)",
   "language": "python",
   "name": "uv-py310-cu121-python"
  },
  "language_info": {
   "codemirror_mode": {
    "name": "ipython",
    "version": 3
   },
   "file_extension": ".py",
   "mimetype": "text/x-python",
   "name": "python",
   "nbconvert_exporter": "python",
   "pygments_lexer": "ipython3",
   "version": "3.10.18"
  }
 },
 "nbformat": 4,
 "nbformat_minor": 5
}
