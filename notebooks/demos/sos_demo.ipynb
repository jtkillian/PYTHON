{
 "cells": [
  {
   "cell_type": "markdown",
   "id": "0",
   "metadata": {},
   "source": [
    "# SoS multi-kernel demo\n",
    "Run multiple languages in one notebook with `%use`.\n"
   ]
  },
  {
   "cell_type": "code",
   "execution_count": null,
   "id": "1",
   "metadata": {},
   "outputs": [],
   "source": [
    "%sessioninfo\n"
   ]
  },
  {
   "cell_type": "markdown",
   "id": "2",
   "metadata": {},
   "source": [
    "## 1a) Python (uv): compute stats & plot a noisy sine\n",
    "This cell runs on your `python_uv` kernel.\n"
   ]
  },
  {
   "cell_type": "code",
   "execution_count": null,
   "id": "3",
   "metadata": {},
   "outputs": [],
   "source": [
    "%use python_uv\n",
    "\n",
    "import sys, numpy as np, matplotlib.pyplot as plt\n",
    "\n",
    "print(\"Kernel:\", sys.executable)\n",
    "print(\"Version:\", sys.version)\n",
    "\n",
    "# Reproducible noisy sine\n",
    "rng = np.random.default_rng(42)\n",
    "x = np.linspace(0, 6*np.pi, 200)\n",
    "y = np.sin(x) + 0.15*rng.standard_normal(len(x))\n",
    "\n",
    "mean_py = float(np.mean(y))\n",
    "var_py  = float(np.var(y, ddof=1))\n",
    "\n",
    "print(\"Mean (Python):\", mean_py)\n",
    "print(\"Variance (Python):\", var_py)\n",
    "\n",
    "plt.figure()\n",
    "plt.plot(x, y, label=\"noisy sin\")\n",
    "plt.title(\"Python (uv) — noisy sin\")\n",
    "plt.legend()\n",
    "plt.show()\n"
   ]
  },
  {
   "cell_type": "markdown",
   "id": "4",
   "metadata": {},
   "source": [
    "## 1b) MATLAB: compute stats & plot (independent of Python)\n",
    "This cell runs on your MATLAB kernel (Calysto).  \n",
    "If your kernel name is different, change `%use matlab` accordingly.\n"
   ]
  },
  {
   "cell_type": "code",
   "execution_count": null,
   "id": "5",
   "metadata": {},
   "outputs": [],
   "source": [
    "%use matlab\n",
    "\n",
    "% Recreate x,y independently in MATLAB\n",
    "x = linspace(0, 6*pi, 200);\n",
    "rng(42); % MATLAB's RNG; distribution won't match Python's exactly (that’s fine)\n",
    "y = sin(x) + 0.15*randn(size(x));\n",
    "\n",
    "mean_ml = mean(y);\n",
    "var_ml  = var(y, 1);   % sample variance: use var(y,0) or var(y,1) per your convention\n",
    "\n",
    "disp(\"Mean (MATLAB): \" + string(mean_ml));\n",
    "disp(\"Variance (MATLAB): \" + string(var_ml));\n",
    "\n",
    "figure;\n",
    "plot(x, y); title(\"MATLAB — noisy sin\");\n"
   ]
  },
  {
   "cell_type": "markdown",
   "id": "6",
   "metadata": {},
   "source": [
    "## 2a) Python: make some data, statistics"
   ]
  },
  {
   "cell_type": "code",
   "execution_count": null,
   "id": "7",
   "metadata": {},
   "outputs": [],
   "source": [
    "%use python_uv\n",
    "# --- Python section ---\n",
    "import numpy as np\n",
    "\n",
    "x = np.linspace(0, 2*np.pi, 10)\n",
    "y = np.sin(x)\n",
    "\n",
    "print(\"Python x:\", x[:3], \"...\")\n",
    "print(\"Python y:\", y[:3], \"...\")\n"
   ]
  },
  {
   "cell_type": "markdown",
   "id": "8",
   "metadata": {},
   "source": [
    "## 2b) SoS: get data from Python (uv)"
   ]
  },
  {
   "cell_type": "code",
   "execution_count": null,
   "id": "9",
   "metadata": {},
   "outputs": [],
   "source": [
    "%get x y --from python_uv\n",
    "x, y\n"
   ]
  },
  {
   "cell_type": "markdown",
   "id": "10",
   "metadata": {},
   "source": [
    "## 2c) SoS: put data into MATLAB"
   ]
  },
  {
   "cell_type": "code",
   "execution_count": null,
   "id": "11",
   "metadata": {},
   "outputs": [],
   "source": [
    "%put x y --to matlab\n"
   ]
  },
  {
   "cell_type": "markdown",
   "id": "12",
   "metadata": {},
   "source": [
    "## 2d) MATLAB: receive data from SoS"
   ]
  },
  {
   "cell_type": "code",
   "execution_count": null,
   "id": "13",
   "metadata": {},
   "outputs": [],
   "source": [
    "%use matlab\n",
    "% --- MATLAB section ---\n",
    "disp('Variables received from Python:')\n",
    "disp(x)\n",
    "disp(y)\n",
    "\n",
    "% Note: MATLAB kernel must support SoS magics (Calysto works)\n",
    "% If this fails, SoS integration isn't loaded in that kernel yet.\n",
    "%put z\n"
   ]
  }
 ],
 "metadata": {
  "kernelspec": {
   "display_name": "SoS",
   "language": "sos",
   "name": "sos"
  },
  "language_info": {
   "codemirror_mode": "sos",
   "file_extension": ".sos",
   "mimetype": "text/x-sos",
   "name": "sos",
   "nbconvert_exporter": "sos_notebook.converter.SoS_Exporter",
   "pygments_lexer": "sos"
  }
 },
 "nbformat": 4,
 "nbformat_minor": 5
}
