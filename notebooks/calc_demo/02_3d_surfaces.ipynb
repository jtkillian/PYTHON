{
 "cells": [
  {
   "cell_type": "markdown",
   "id": "0",
   "metadata": {},
   "source": [
    "# 3D Surface Explorer\n",
    "\n",
    "Explore surfaces of the form `z = f(x, y, a, b)` with live sliders for up to two parameters.\n",
    "\n",
    "**Notes**\n",
    "- Uses **Plotly FigureWidget** for smooth updates (requires `ipywidgets` + `anywidget`).\n",
    "- If live mode isn’t available, it falls back to a static surface and prints a hint to install `anywidget`.\n",
    "\n",
    "**Try editing `zfunc`**\n",
    "- Replace `a*np.sin(x) + b*np.cos(y)` with your own vectorized expression.\n",
    "- Keep it NumPy-based (no Python loops) for speed.\n"
   ]
  },
  {
   "cell_type": "code",
   "execution_count": null,
   "id": "1",
   "metadata": {
    "tags": [
     "parameters"
    ]
   },
   "outputs": [],
   "source": [
    "# PARAMETERS\n",
    "from sandbox.nb_widgets import notebook_setup, tangent_widget, surface3d_widget_v2\n",
    "from sandbox.figs import save_best, save_buttons\n",
    "\n",
    "NOTEBOOK = \"calc/02_surface3d\"  # -> quarto/build/calc/02_surface3d/...\n",
    "notebook_setup()"
   ]
  },
  {
   "cell_type": "markdown",
   "id": "2",
   "metadata": {},
   "source": [
    "# 02 · 3D surface with parameters\n",
    "\n",
    "Interact via the widget. For a publication snapshot, use the separate Plotly 3D cell to save a high-DPI PNG.\n"
   ]
  },
  {
   "cell_type": "code",
   "execution_count": null,
   "id": "3",
   "metadata": {},
   "outputs": [],
   "source": [
    "import numpy as np\n",
    "\n",
    "\n",
    "def zfunc(x: np.ndarray, y: np.ndarray, a: float = 1.0, b: float = 1.0) -> np.ndarray:\n",
    "    return a * np.sin(x) + b * np.cos(y)\n",
    "\n",
    "\n",
    "save = surface3d_widget_v2(\n",
    "    zfunc,\n",
    "    x_range=(-np.pi, np.pi),\n",
    "    y_range=(-np.pi, np.pi),\n",
    "    grid=100,\n",
    "    params={\"a\": (1.0, -2.0, 2.0, 0.02), \"b\": (1.0, -2.0, 2.0, 0.02)},\n",
    ")\n",
    "\n",
    "display(save)\n",
    "save_buttons(NOTEBOOK, save.children[-1])  # last child is the figure"
   ]
  },
  {
   "cell_type": "markdown",
   "id": "4",
   "metadata": {},
   "source": [
    "## 3D snapshot (high-DPI PNG)\n",
    "Use Plotly FigureWidget to capture current camera; click the button to save.\n"
   ]
  },
  {
   "cell_type": "code",
   "execution_count": null,
   "id": "5",
   "metadata": {},
   "outputs": [],
   "source": [
    "import numpy as np\n",
    "\n",
    "# Built-ins (all have sliders)\n",
    "ui_volcano = surface3d_widget_v2(\"volcano\", grid=120)\n",
    "\n",
    "display(ui_volcano)\n",
    "save_buttons(NOTEBOOK, ui_volcano.children[-1])"
   ]
  }
 ],
 "metadata": {
  "kernelspec": {
   "display_name": "Python (PYTHON · uv · 3.10 · cu121)",
   "language": "python",
   "name": "uv-py310-cu121-python"
  },
  "language_info": {
   "codemirror_mode": {
    "name": "ipython",
    "version": 3
   },
   "file_extension": ".py",
   "mimetype": "text/x-python",
   "name": "python",
   "nbconvert_exporter": "python",
   "pygments_lexer": "ipython3",
   "version": "3.10.18"
  }
 },
 "nbformat": 4,
 "nbformat_minor": 5
}
