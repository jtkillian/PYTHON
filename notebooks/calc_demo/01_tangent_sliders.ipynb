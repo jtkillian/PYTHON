{
 "cells": [
  {
   "cell_type": "markdown",
   "id": "0",
   "metadata": {},
   "source": [
    "# Tangent Line Explorer\n",
    "\n",
    "Interactively visualize the tangent line to a function at a point `a`.\n",
    "\n",
    "**How it works**\n",
    "- You can pass either:\n",
    "  - a **SymPy expression** in `x` (exact derivative), or\n",
    "  - a **NumPy-callable** `f(x)` (numeric derivative via central differences).\n",
    "- The slider moves point `a`; the tangent line updates live.\n",
    "- The plot renders exactly **once** to avoid duplicates.\n",
    "\n",
    "**If you see two plots or no tangent:**\n",
    "- Restart the kernel and re-run cells after updating `nb_widgets.py`.\n",
    "- Ensure the cell only calls `tangent_widget(...)` (no extra `plt.show()` or leftover figures).\n"
   ]
  },
  {
   "cell_type": "code",
   "execution_count": null,
   "id": "1",
   "metadata": {
    "tags": [
     "parameters"
    ]
   },
   "outputs": [],
   "source": [
    "# PARAMETERS\n",
    "from sandbox.nb_widgets import notebook_setup, tangent_widget, surface3d_widget_v2\n",
    "from sandbox.figs import save_best, save_buttons\n",
    "\n",
    "NOTEBOOK = \"calc/01_tangent\"  # -> quarto/build/calc/01_tangent/...\n",
    "notebook_setup()"
   ]
  },
  {
   "cell_type": "markdown",
   "id": "2",
   "metadata": {},
   "source": [
    "# 01 · Tangent line (interactive + publication snapshot)\n",
    "\n",
    "- Use the interactive widget to explore.\n",
    "- Use the “Save Best” button/cell below to export a clean static figure for a report.\n"
   ]
  },
  {
   "cell_type": "code",
   "execution_count": null,
   "id": "3",
   "metadata": {},
   "outputs": [],
   "source": [
    "import sympy as sp\n",
    "\n",
    "x = sp.symbols(\"x\")\n",
    "f_expr = x**2 + sp.sin(x)\n",
    "ui = tangent_widget(\n",
    "    f_expr, a_init=1.0, xmin=-4.0, xmax=4.0, step=0.05, n=400, width=720, height=480\n",
    ")  # fixed “standard” size\n",
    "display(ui)  # last line in the cell to render\n",
    "\n",
    "ui = tangent_widget(\n",
    "    f_expr, a_init=1.0, xmin=-4.0, xmax=4.0, step=0.05, n=400, width=720, height=480\n",
    ")\n",
    "fig_widget = ui.children[-1]\n",
    "save_buttons(NOTEBOOK, fig_widget)"
   ]
  },
  {
   "cell_type": "markdown",
   "id": "4",
   "metadata": {},
   "source": [
    "## Publication snapshot (vector PDF)\n",
    "This cell regenerates the curve + tangent at a chosen `a_snapshot` and saves a vector PDF.\n"
   ]
  },
  {
   "cell_type": "code",
   "execution_count": null,
   "id": "5",
   "metadata": {},
   "outputs": [],
   "source": [
    "import numpy as np, matplotlib.pyplot as plt\n",
    "from IPython.display import display\n",
    "\n",
    "\n",
    "def f(x):\n",
    "    return x**2 + np.sin(x)\n",
    "\n",
    "\n",
    "def tangent_line(x, a):\n",
    "    m = 2 * a + np.cos(a)\n",
    "    b = f(a) - m * a\n",
    "    return m * x + b\n",
    "\n",
    "\n",
    "a_snapshot = 1.0\n",
    "xs = np.linspace(-4, 4, 400)\n",
    "\n",
    "with plt.ioff():\n",
    "    fig, ax = plt.subplots()\n",
    "    ax.plot(xs, f(xs), label=\"f(x)\")\n",
    "    ax.plot(xs, tangent_line(xs, a_snapshot), label=f\"tangent @ a={a_snapshot}\")\n",
    "    ax.scatter([a_snapshot], [f(a_snapshot)], s=40, zorder=5, label=\"point\")\n",
    "    ax.set(xlabel=\"x\", ylabel=\"y\", title=\"f & tangent\")\n",
    "    ax.grid(True)\n",
    "    ax.legend()\n",
    "\n",
    "    display(fig)  # <-- explicitly show once\n",
    "    save_best(NOTEBOOK, label=f\"tangent-a-{a_snapshot}\")\n",
    "\n",
    "plt.close(fig)  # close so it doesn’t re-render later"
   ]
  }
 ],
 "metadata": {
  "kernelspec": {
   "display_name": "Python (PYTHON · uv · 3.10 · cu121)",
   "language": "python",
   "name": "uv-py310-cu121-python"
  },
  "language_info": {
   "codemirror_mode": {
    "name": "ipython",
    "version": 3
   },
   "file_extension": ".py",
   "mimetype": "text/x-python",
   "name": "python",
   "nbconvert_exporter": "python",
   "pygments_lexer": "ipython3",
   "version": "3.10.18"
  }
 },
 "nbformat": 4,
 "nbformat_minor": 5
}
