{
 "cells": [
  {
   "cell_type": "markdown",
   "id": "0",
   "metadata": {},
   "source": [
    "# Lab XX data\n",
    "\n",
    "This notebook takes the raw Lab XX data and outputs cleaned data and graphs\n",
    "\n",
    "**Inputs**: `PHY-202L\\data\\raw\\Lab_XX.csv`\n",
    "\n",
    "**Outputs**: `PHY-202L\\data\\processed\\Lab_XX_clean.csv`"
   ]
  },
  {
   "cell_type": "markdown",
   "id": "1",
   "metadata": {},
   "source": [
    "# 0) Config\n",
    "\n",
    "Configuration/parameters setup for notebook"
   ]
  },
  {
   "cell_type": "code",
   "execution_count": null,
   "id": "2",
   "metadata": {},
   "outputs": [],
   "source": [
    "import pandas as pd\n",
    "import numpy as np\n",
    "\n",
    "pd.set_option(\"display.max_columns\", 100)\n",
    "pd.set_option(\"display.width\", 120)"
   ]
  },
  {
   "cell_type": "markdown",
   "id": "3",
   "metadata": {},
   "source": [
    "# 1) Data Wrangler export\n",
    "\n",
    "This cell reads the raw CSV and applies transformations\n",
    "\n",
    "**Outputs**: `df_clean`"
   ]
  },
  {
   "cell_type": "code",
   "execution_count": null,
   "id": "4",
   "metadata": {},
   "outputs": [],
   "source": []
  },
  {
   "cell_type": "markdown",
   "id": "5",
   "metadata": {},
   "source": [
    "# 2) Derived columns\n",
    "\n",
    "Add columns needed to complete relevant calculations and graphs\n",
    "\n",
    "**Outputs**: `df_clean`"
   ]
  },
  {
   "cell_type": "code",
   "execution_count": null,
   "id": "6",
   "metadata": {},
   "outputs": [],
   "source": []
  },
  {
   "cell_type": "markdown",
   "id": "7",
   "metadata": {},
   "source": [
    "# 3) Save the processed dataset to file\n",
    "\n",
    "Take all of the transformations to the original CSV done in this file and materialize them into a final file\n",
    "\n",
    "**Outputs**: `Lab_XX_clean.csv`"
   ]
  },
  {
   "cell_type": "code",
   "execution_count": null,
   "id": "8",
   "metadata": {},
   "outputs": [],
   "source": [
    "out_path = \"../data/processed/Lab_XX_clean.csv\"\n",
    "df_clean.to_csv(out_path, index=False)\n",
    "out_path"
   ]
  },
  {
   "cell_type": "markdown",
   "id": "9",
   "metadata": {},
   "source": [
    "# 4) Quick visuals\n",
    "\n",
    "Various figures using plotly and using matplotlib."
   ]
  },
  {
   "cell_type": "markdown",
   "id": "10",
   "metadata": {},
   "source": [
    "*Interactive plotly figure*:"
   ]
  },
  {
   "cell_type": "markdown",
   "id": "11",
   "metadata": {},
   "source": [
    "*matplotlib figure*:"
   ]
  }
 ],
 "metadata": {
  "kernelspec": {
   "display_name": "Python (PYTHON · uv · 3.10 · cu121)",
   "language": "python",
   "name": "uv-py310-cu121-python"
  },
  "language_info": {
   "name": "python",
   "version": "3.10.18"
  }
 },
 "nbformat": 4,
 "nbformat_minor": 5
}
